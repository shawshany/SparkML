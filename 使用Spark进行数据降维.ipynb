{
 "cells": [
  {
   "cell_type": "code",
   "execution_count": 16,
   "metadata": {
    "ExecuteTime": {
     "end_time": "2022-07-30T00:42:45.689123Z",
     "start_time": "2022-07-30T00:42:45.288202Z"
    }
   },
   "outputs": [
    {
     "name": "stdout",
     "output_type": "stream",
     "text": [
      "+---+----------+-------+---------+-------+-------+-------+----+--------+---+-----+--------+--------+-----+--------+--------+---+\n",
      "|age|       job|marital|education|default|balance|housing|loan| contact|day|month|duration|campaign|pdays|previous|poutcome|  y|\n",
      "+---+----------+-------+---------+-------+-------+-------+----+--------+---+-----+--------+--------+-----+--------+--------+---+\n",
      "| 30|unemployed|married|  primary|     no|   1787|     no|  no|cellular| 19|  oct|      79|       1|   -1|       0| unknown| no|\n",
      "| 33|  services|married|secondary|     no|   4789|    yes| yes|cellular| 11|  may|     220|       1|  339|       4| failure| no|\n",
      "| 35|management| single| tertiary|     no|   1350|    yes|  no|cellular| 16|  apr|     185|       1|  330|       1| failure| no|\n",
      "| 30|management|married| tertiary|     no|   1476|    yes| yes| unknown|  3|  jun|     199|       4|   -1|       0| unknown| no|\n",
      "+---+----------+-------+---------+-------+-------+-------+----+--------+---+-----+--------+--------+-----+--------+--------+---+\n",
      "only showing top 4 rows\n",
      "\n"
     ]
    }
   ],
   "source": [
    "import pyspark \n",
    "from pyspark.sql import SparkSession\n",
    "spark = SparkSession.builder.appName('bankspark').getOrCreate()\n",
    "\n",
    "df = spark.read.format(\"csv\").option(\"header\", \"true\").option(\"delimiter\", \";\").load(\"bank.csv\")\n",
    "df.show(4)"
   ]
  },
  {
   "cell_type": "code",
   "execution_count": 17,
   "metadata": {
    "ExecuteTime": {
     "end_time": "2022-07-30T00:42:45.838507Z",
     "start_time": "2022-07-30T00:42:45.725191Z"
    }
   },
   "outputs": [
    {
     "name": "stdout",
     "output_type": "stream",
     "text": [
      "+---+----------+-------+---------+-------+-------+-------+----+--------+-----+--------+--------+---+\n",
      "|age|       job|marital|education|default|balance|housing|loan|campaign|pdays|previous|poutcome|  y|\n",
      "+---+----------+-------+---------+-------+-------+-------+----+--------+-----+--------+--------+---+\n",
      "| 30|unemployed|married|  primary|     no|   1787|     no|  no|       1|   -1|       0| unknown| no|\n",
      "| 33|  services|married|secondary|     no|   4789|    yes| yes|       1|  339|       4| failure| no|\n",
      "| 35|management| single| tertiary|     no|   1350|    yes|  no|       1|  330|       1| failure| no|\n",
      "| 30|management|married| tertiary|     no|   1476|    yes| yes|       4|   -1|       0| unknown| no|\n",
      "+---+----------+-------+---------+-------+-------+-------+----+--------+-----+--------+--------+---+\n",
      "only showing top 4 rows\n",
      "\n"
     ]
    }
   ],
   "source": [
    "cols = ['age', 'job', 'marital','education', 'default', 'balance', 'housing', 'loan', 'campaign', 'pdays', 'previous', 'poutcome', 'y']\n",
    "df2 = df.select(cols)\n",
    "df2.show(4)"
   ]
  },
  {
   "cell_type": "code",
   "execution_count": 20,
   "metadata": {
    "ExecuteTime": {
     "end_time": "2022-07-30T00:43:12.835213Z",
     "start_time": "2022-07-30T00:43:12.801100Z"
    }
   },
   "outputs": [
    {
     "data": {
      "text/plain": [
       "DataFrame[age: string, job: string, marital: string, education: string, default: string, balance: string, housing: string, loan: string, campaign: string, pdays: string, previous: string, poutcome: string, y: string]"
      ]
     },
     "execution_count": 20,
     "metadata": {},
     "output_type": "execute_result"
    }
   ],
   "source": [
    "df2.filter(~(df2.age>=4))"
   ]
  },
  {
   "cell_type": "code",
   "execution_count": 4,
   "metadata": {
    "ExecuteTime": {
     "end_time": "2022-06-22T09:21:58.742716Z",
     "start_time": "2022-06-22T09:21:58.050770Z"
    }
   },
   "outputs": [
    {
     "name": "stdout",
     "output_type": "stream",
     "text": [
      "+---+----------+-------+---------+-------+-------+-------+----+--------+-----+--------+--------+---+\n",
      "|age|       job|marital|education|default|balance|housing|loan|campaign|pdays|previous|poutcome|  y|\n",
      "+---+----------+-------+---------+-------+-------+-------+----+--------+-----+--------+--------+---+\n",
      "| 33|  services|married|secondary|     no|   4789|    yes| yes|       1|  339|       4| failure| no|\n",
      "| 35|management| single| tertiary|     no|   1350|    yes|  no|       1|  330|       1| failure| no|\n",
      "| 35|management| single| tertiary|     no|    747|     no|  no|       2|  176|       3| failure| no|\n",
      "| 43|  services|married|  primary|     no|    -88|    yes| yes|       1|  147|       2| failure| no|\n",
      "+---+----------+-------+---------+-------+-------+-------+----+--------+-----+--------+--------+---+\n",
      "only showing top 4 rows\n",
      "\n"
     ]
    }
   ],
   "source": [
    "df2.createOrReplaceTempView(\"bank\")\n",
    "df2 = spark.sql(\"SELECT * FROM bank WHERE bank.poutcome='success' or bank.poutcome='failure'\")\n",
    "df2.createOrReplaceTempView(\"bank\")\n",
    "df2 =  df2.filter(~df.age.contains(\"unknown\"))\n",
    "df2 =  df2.filter(~df.job.contains(\"unknown\"))\n",
    "df2 =  df2.filter(~df.marital.contains(\"unknown\"))\n",
    "df2 =  df2.filter(~df.education.contains(\"unknown\"))\n",
    "df2 =  df2.filter(~df.default.contains(\"unknown\"))\n",
    "df2 =  df2.filter(~df.balance.contains(\"unknown\"))\n",
    "df2 =  df2.filter(~df.housing.contains(\"unknown\"))\n",
    "df2 =  df2.filter(~df.loan.contains(\"unknown\"))\n",
    "df2 =  df2.filter(~df.campaign.contains(\"unknown\"))\n",
    "df2 =  df2.filter(~df.pdays.contains(\"unknown\"))\n",
    "df2 =  df2.filter(~df.previous.contains(\"unknown\"))\n",
    "df2 =  df2.filter(~df.poutcome.contains(\"unknown\"))\n",
    "df2 =  df2.filter(~df.y.contains(\"unknown\"))\n",
    "df2.show(4)"
   ]
  },
  {
   "cell_type": "code",
   "execution_count": 5,
   "metadata": {
    "ExecuteTime": {
     "end_time": "2022-06-22T09:22:21.929045Z",
     "start_time": "2022-06-22T09:22:18.681456Z"
    }
   },
   "outputs": [
    {
     "name": "stderr",
     "output_type": "stream",
     "text": [
      "22/06/22 17:22:21 WARN Utils: Truncated the string representation of a plan since it was too large. This behavior can be adjusted by setting 'spark.debug.maxToStringFields' in SparkEnv.conf.\n"
     ]
    },
    {
     "name": "stdout",
     "output_type": "stream",
     "text": [
      "+---+----------+-------+---------+-------+-------+-------+----+--------+-----+--------+--------+---+---------+--------------+-------------+-------------+---------------+-------------+-------------+-------------+-------------+-------------+----------+-------------+--------------+-------------+-------+-------------+\n",
      "|age|       job|marital|education|default|balance|housing|loan|campaign|pdays|previous|poutcome|  y|job_index|       job_vec|marital_index|  marital_vec|education_index|education_vec|default_index|  default_vec|housing_index|  housing_vec|loan_index|     loan_vec|poutcome_index| poutcome_vec|y_index|        y_vec|\n",
      "+---+----------+-------+---------+-------+-------+-------+----+--------+-----+--------+--------+---+---------+--------------+-------------+-------------+---------------+-------------+-------------+-------------+-------------+-------------+----------+-------------+--------------+-------------+-------+-------------+\n",
      "| 33|  services|married|secondary|     no|   4789|    yes| yes|       1|  339|       4| failure| no|      4.0|(11,[4],[1.0])|          0.0|(3,[0],[1.0])|            0.0|(3,[0],[1.0])|          0.0|(2,[0],[1.0])|          0.0|(2,[0],[1.0])|       1.0|(2,[1],[1.0])|           0.0|(2,[0],[1.0])|    0.0|(2,[0],[1.0])|\n",
      "| 35|management| single| tertiary|     no|   1350|    yes|  no|       1|  330|       1| failure| no|      0.0|(11,[0],[1.0])|          1.0|(3,[1],[1.0])|            1.0|(3,[1],[1.0])|          0.0|(2,[0],[1.0])|          0.0|(2,[0],[1.0])|       0.0|(2,[0],[1.0])|           0.0|(2,[0],[1.0])|    0.0|(2,[0],[1.0])|\n",
      "| 35|management| single| tertiary|     no|    747|     no|  no|       2|  176|       3| failure| no|      0.0|(11,[0],[1.0])|          1.0|(3,[1],[1.0])|            1.0|(3,[1],[1.0])|          0.0|(2,[0],[1.0])|          1.0|(2,[1],[1.0])|       0.0|(2,[0],[1.0])|           0.0|(2,[0],[1.0])|    0.0|(2,[0],[1.0])|\n",
      "| 43|  services|married|  primary|     no|    -88|    yes| yes|       1|  147|       2| failure| no|      4.0|(11,[4],[1.0])|          0.0|(3,[0],[1.0])|            2.0|(3,[2],[1.0])|          0.0|(2,[0],[1.0])|          0.0|(2,[0],[1.0])|       1.0|(2,[1],[1.0])|           0.0|(2,[0],[1.0])|    0.0|(2,[0],[1.0])|\n",
      "+---+----------+-------+---------+-------+-------+-------+----+--------+-----+--------+--------+---+---------+--------------+-------------+-------------+---------------+-------------+-------------+-------------+-------------+-------------+----------+-------------+--------------+-------------+-------+-------------+\n",
      "only showing top 4 rows\n",
      "\n"
     ]
    }
   ],
   "source": [
    "from pyspark.ml import Pipeline\n",
    "from pyspark.ml.feature import StringIndexer, OneHotEncoder\n",
    "\n",
    "stringIndexer = StringIndexer(inputCol=\"job\", outputCol=\"job_index\")\n",
    "model = stringIndexer.fit(df2)\n",
    "indexed = model.transform(df2)\n",
    "encoder = OneHotEncoder(dropLast=False, inputCol=\"job_index\", outputCol=\"job_vec\")\n",
    "encoded = encoder.transform(indexed)\n",
    "df2 = encoded\n",
    "\n",
    "stringIndexer = StringIndexer(inputCol=\"marital\", outputCol=\"marital_index\")\n",
    "model = stringIndexer.fit(df2)\n",
    "indexed = model.transform(df2)\n",
    "encoder = OneHotEncoder(dropLast=False, inputCol=\"marital_index\", outputCol=\"marital_vec\")\n",
    "encoded = encoder.transform(indexed)\n",
    "df2 = encoded\n",
    "\n",
    "stringIndexer = StringIndexer(inputCol=\"education\", outputCol=\"education_index\")\n",
    "model = stringIndexer.fit(df2)\n",
    "indexed = model.transform(df2)\n",
    "encoder = OneHotEncoder(dropLast=False, inputCol=\"education_index\", outputCol=\"education_vec\")\n",
    "encoded = encoder.transform(indexed)\n",
    "df2 = encoded\n",
    "\n",
    "stringIndexer = StringIndexer(inputCol=\"default\", outputCol=\"default_index\")\n",
    "model = stringIndexer.fit(df2)\n",
    "indexed = model.transform(df2)\n",
    "encoder = OneHotEncoder(dropLast=False, inputCol=\"default_index\", outputCol=\"default_vec\")\n",
    "encoded = encoder.transform(indexed)\n",
    "df2 = encoded\n",
    "\n",
    "stringIndexer = StringIndexer(inputCol=\"housing\", outputCol=\"housing_index\")\n",
    "model = stringIndexer.fit(df2)\n",
    "indexed = model.transform(df2)\n",
    "encoder = OneHotEncoder(dropLast=False, inputCol=\"housing_index\", outputCol=\"housing_vec\")\n",
    "encoded = encoder.transform(indexed)\n",
    "df2 = encoded\n",
    "\n",
    "stringIndexer = StringIndexer(inputCol=\"loan\", outputCol=\"loan_index\")\n",
    "model = stringIndexer.fit(df2)\n",
    "indexed = model.transform(df2)\n",
    "encoder = OneHotEncoder(dropLast=False, inputCol=\"loan_index\", outputCol=\"loan_vec\")\n",
    "encoded = encoder.transform(indexed)\n",
    "df2 = encoded\n",
    "\n",
    "stringIndexer = StringIndexer(inputCol=\"poutcome\", outputCol=\"poutcome_index\")\n",
    "model = stringIndexer.fit(df2)\n",
    "indexed = model.transform(df2)\n",
    "encoder = OneHotEncoder(dropLast=False, inputCol=\"poutcome_index\", outputCol=\"poutcome_vec\")\n",
    "encoded = encoder.transform(indexed)\n",
    "df2 = encoded\n",
    "\n",
    "stringIndexer = StringIndexer(inputCol=\"y\", outputCol=\"y_index\")\n",
    "model = stringIndexer.fit(df2)\n",
    "indexed = model.transform(df2)\n",
    "encoder = OneHotEncoder(dropLast=False, inputCol=\"y_index\", outputCol=\"y_vec\")\n",
    "encoded = encoder.transform(indexed)\n",
    "df2 = encoded\n",
    "\n",
    "df2.show(4)"
   ]
  },
  {
   "cell_type": "code",
   "execution_count": 6,
   "metadata": {
    "ExecuteTime": {
     "end_time": "2022-06-22T09:22:30.202414Z",
     "start_time": "2022-06-22T09:22:27.877734Z"
    }
   },
   "outputs": [
    {
     "name": "stdout",
     "output_type": "stream",
     "text": [
      "+---+----------+-------+---------+-------+-------+-------+----+--------+-----+--------+--------+---+---------+--------------+-------------+-------------+---------------+-------------+-------------+-------------+-------------+-------------+----------+-------------+--------------+-------------+-------+-------------+--------------------+------------------+--------------------+------------------+------------------+---------------+-------------------+------------+\n",
      "|age|       job|marital|education|default|balance|housing|loan|campaign|pdays|previous|poutcome|  y|job_index|       job_vec|marital_index|  marital_vec|education_index|education_vec|default_index|  default_vec|housing_index|  housing_vec|loan_index|     loan_vec|poutcome_index| poutcome_vec|y_index|        y_vec|      job_vec_scaled|marital_vec_scaled|education_vec_scaled|default_vec_scaled|housing_vec_scaled|loan_vec_scaled|poutcome_vec_scaled|y_vec_scaled|\n",
      "+---+----------+-------+---------+-------+-------+-------+----+--------+-----+--------+--------+---+---------+--------------+-------------+-------------+---------------+-------------+-------------+-------------+-------------+-------------+----------+-------------+--------------+-------------+-------+-------------+--------------------+------------------+--------------------+------------------+------------------+---------------+-------------------+------------+\n",
      "| 33|  services|married|secondary|     no|   4789|    yes| yes|       1|  339|       4| failure| no|      4.0|(11,[4],[1.0])|          0.0|(3,[0],[1.0])|            0.0|(3,[0],[1.0])|          0.0|(2,[0],[1.0])|          0.0|(2,[0],[1.0])|       1.0|(2,[1],[1.0])|           0.0|(2,[0],[1.0])|    0.0|(2,[0],[1.0])|[0.0,0.0,0.0,0.0,...|     [1.0,0.0,0.0]|       [1.0,0.0,0.0]|         [1.0,0.0]|         [1.0,0.0]|      [0.0,1.0]|          [1.0,0.0]|   [1.0,0.0]|\n",
      "| 35|management| single| tertiary|     no|   1350|    yes|  no|       1|  330|       1| failure| no|      0.0|(11,[0],[1.0])|          1.0|(3,[1],[1.0])|            1.0|(3,[1],[1.0])|          0.0|(2,[0],[1.0])|          0.0|(2,[0],[1.0])|       0.0|(2,[0],[1.0])|           0.0|(2,[0],[1.0])|    0.0|(2,[0],[1.0])|[1.0,0.0,0.0,0.0,...|     [0.0,1.0,0.0]|       [0.0,1.0,0.0]|         [1.0,0.0]|         [1.0,0.0]|      [1.0,0.0]|          [1.0,0.0]|   [1.0,0.0]|\n",
      "| 35|management| single| tertiary|     no|    747|     no|  no|       2|  176|       3| failure| no|      0.0|(11,[0],[1.0])|          1.0|(3,[1],[1.0])|            1.0|(3,[1],[1.0])|          0.0|(2,[0],[1.0])|          1.0|(2,[1],[1.0])|       0.0|(2,[0],[1.0])|           0.0|(2,[0],[1.0])|    0.0|(2,[0],[1.0])|[1.0,0.0,0.0,0.0,...|     [0.0,1.0,0.0]|       [0.0,1.0,0.0]|         [1.0,0.0]|         [0.0,1.0]|      [1.0,0.0]|          [1.0,0.0]|   [1.0,0.0]|\n",
      "| 43|  services|married|  primary|     no|    -88|    yes| yes|       1|  147|       2| failure| no|      4.0|(11,[4],[1.0])|          0.0|(3,[0],[1.0])|            2.0|(3,[2],[1.0])|          0.0|(2,[0],[1.0])|          0.0|(2,[0],[1.0])|       1.0|(2,[1],[1.0])|           0.0|(2,[0],[1.0])|    0.0|(2,[0],[1.0])|[0.0,0.0,0.0,0.0,...|     [1.0,0.0,0.0]|       [0.0,0.0,1.0]|         [1.0,0.0]|         [1.0,0.0]|      [0.0,1.0]|          [1.0,0.0]|   [1.0,0.0]|\n",
      "+---+----------+-------+---------+-------+-------+-------+----+--------+-----+--------+--------+---+---------+--------------+-------------+-------------+---------------+-------------+-------------+-------------+-------------+-------------+----------+-------------+--------------+-------------+-------+-------------+--------------------+------------------+--------------------+------------------+------------------+---------------+-------------------+------------+\n",
      "only showing top 4 rows\n",
      "\n"
     ]
    }
   ],
   "source": [
    "from pyspark.ml.feature import MinMaxScaler\n",
    "\n",
    "cols = ['job', 'marital','education', 'default', 'housing', 'loan', 'poutcome', 'y']\n",
    "for col in cols:\n",
    "    scaler = MinMaxScaler(inputCol=col+\"_vec\", outputCol=col+\"_vec_scaled\")\n",
    "    scalerModel = scaler.fit(df2)\n",
    "    scaledData = scalerModel.transform(df2)\n",
    "    df2 = scaledData\n",
    "df2.show(4)"
   ]
  },
  {
   "cell_type": "code",
   "execution_count": 7,
   "metadata": {
    "ExecuteTime": {
     "end_time": "2022-06-22T09:22:56.610800Z",
     "start_time": "2022-06-22T09:22:55.868679Z"
    }
   },
   "outputs": [
    {
     "name": "stdout",
     "output_type": "stream",
     "text": [
      "+---+----------+-------+---------+-------+-------+-------+----+--------+-----+--------+--------+---+---------+--------------+-------------+-------------+---------------+-------------+-------------+-------------+-------------+-------------+----------+-------------+--------------+-------------+-------+-------------+--------------------+------------------+--------------------+------------------+------------------+---------------+-------------------+------------+--------------------+\n",
      "|age|       job|marital|education|default|balance|housing|loan|campaign|pdays|previous|poutcome|  y|job_index|       job_vec|marital_index|  marital_vec|education_index|education_vec|default_index|  default_vec|housing_index|  housing_vec|loan_index|     loan_vec|poutcome_index| poutcome_vec|y_index|        y_vec|      job_vec_scaled|marital_vec_scaled|education_vec_scaled|default_vec_scaled|housing_vec_scaled|loan_vec_scaled|poutcome_vec_scaled|y_vec_scaled|            features|\n",
      "+---+----------+-------+---------+-------+-------+-------+----+--------+-----+--------+--------+---+---------+--------------+-------------+-------------+---------------+-------------+-------------+-------------+-------------+-------------+----------+-------------+--------------+-------------+-------+-------------+--------------------+------------------+--------------------+------------------+------------------+---------------+-------------------+------------+--------------------+\n",
      "| 33|  services|married|secondary|     no|   4789|    yes| yes|       1|  339|       4| failure| no|      4.0|(11,[4],[1.0])|          0.0|(3,[0],[1.0])|            0.0|(3,[0],[1.0])|          0.0|(2,[0],[1.0])|          0.0|(2,[0],[1.0])|       1.0|(2,[1],[1.0])|           0.0|(2,[0],[1.0])|    0.0|(2,[0],[1.0])|[0.0,0.0,0.0,0.0,...|     [1.0,0.0,0.0]|       [1.0,0.0,0.0]|         [1.0,0.0]|         [1.0,0.0]|      [0.0,1.0]|          [1.0,0.0]|   [1.0,0.0]|(25,[4,11,14,17,1...|\n",
      "| 35|management| single| tertiary|     no|   1350|    yes|  no|       1|  330|       1| failure| no|      0.0|(11,[0],[1.0])|          1.0|(3,[1],[1.0])|            1.0|(3,[1],[1.0])|          0.0|(2,[0],[1.0])|          0.0|(2,[0],[1.0])|       0.0|(2,[0],[1.0])|           0.0|(2,[0],[1.0])|    0.0|(2,[0],[1.0])|[1.0,0.0,0.0,0.0,...|     [0.0,1.0,0.0]|       [0.0,1.0,0.0]|         [1.0,0.0]|         [1.0,0.0]|      [1.0,0.0]|          [1.0,0.0]|   [1.0,0.0]|(25,[0,12,15,17,1...|\n",
      "| 35|management| single| tertiary|     no|    747|     no|  no|       2|  176|       3| failure| no|      0.0|(11,[0],[1.0])|          1.0|(3,[1],[1.0])|            1.0|(3,[1],[1.0])|          0.0|(2,[0],[1.0])|          1.0|(2,[1],[1.0])|       0.0|(2,[0],[1.0])|           0.0|(2,[0],[1.0])|    0.0|(2,[0],[1.0])|[1.0,0.0,0.0,0.0,...|     [0.0,1.0,0.0]|       [0.0,1.0,0.0]|         [1.0,0.0]|         [0.0,1.0]|      [1.0,0.0]|          [1.0,0.0]|   [1.0,0.0]|(25,[0,12,15,17,2...|\n",
      "| 43|  services|married|  primary|     no|    -88|    yes| yes|       1|  147|       2| failure| no|      4.0|(11,[4],[1.0])|          0.0|(3,[0],[1.0])|            2.0|(3,[2],[1.0])|          0.0|(2,[0],[1.0])|          0.0|(2,[0],[1.0])|       1.0|(2,[1],[1.0])|           0.0|(2,[0],[1.0])|    0.0|(2,[0],[1.0])|[0.0,0.0,0.0,0.0,...|     [1.0,0.0,0.0]|       [0.0,0.0,1.0]|         [1.0,0.0]|         [1.0,0.0]|      [0.0,1.0]|          [1.0,0.0]|   [1.0,0.0]|(25,[4,11,16,17,1...|\n",
      "+---+----------+-------+---------+-------+-------+-------+----+--------+-----+--------+--------+---+---------+--------------+-------------+-------------+---------------+-------------+-------------+-------------+-------------+-------------+----------+-------------+--------------+-------------+-------+-------------+--------------------+------------------+--------------------+------------------+------------------+---------------+-------------------+------------+--------------------+\n",
      "only showing top 4 rows\n",
      "\n"
     ]
    }
   ],
   "source": [
    "from pyspark.ml.clustering import KMeans\n",
    "from pyspark.ml.feature import VectorAssembler\n",
    "\n",
    "vecAssembler = VectorAssembler(inputCols=[ 'job_vec_scaled', 'marital_vec_scaled','education_vec_scaled', 'default_vec_scaled', 'housing_vec_scaled', 'loan_vec_scaled', 'poutcome_vec_scaled'], outputCol='features')\n",
    "df3 = vecAssembler.transform(df2)\n",
    "df3.show(4)"
   ]
  },
  {
   "cell_type": "code",
   "execution_count": 8,
   "metadata": {
    "ExecuteTime": {
     "end_time": "2022-06-22T09:24:38.535274Z",
     "start_time": "2022-06-22T09:24:35.463026Z"
    }
   },
   "outputs": [
    {
     "name": "stderr",
     "output_type": "stream",
     "text": [
      "22/06/22 17:24:36 WARN BLAS: Failed to load implementation from: com.github.fommil.netlib.NativeSystemBLAS\n",
      "22/06/22 17:24:36 WARN BLAS: Failed to load implementation from: com.github.fommil.netlib.NativeRefBLAS\n"
     ]
    },
    {
     "name": "stdout",
     "output_type": "stream",
     "text": [
      "+---+----------+-------+---------+-------+-------+-------+----+--------+-----+--------+--------+---+---------+--------------+-------------+-------------+---------------+-------------+-------------+-------------+-------------+-------------+----------+-------------+--------------+-------------+-------+-------------+--------------------+------------------+--------------------+------------------+------------------+---------------+-------------------+------------+--------------------+----------+\n",
      "|age|       job|marital|education|default|balance|housing|loan|campaign|pdays|previous|poutcome|  y|job_index|       job_vec|marital_index|  marital_vec|education_index|education_vec|default_index|  default_vec|housing_index|  housing_vec|loan_index|     loan_vec|poutcome_index| poutcome_vec|y_index|        y_vec|      job_vec_scaled|marital_vec_scaled|education_vec_scaled|default_vec_scaled|housing_vec_scaled|loan_vec_scaled|poutcome_vec_scaled|y_vec_scaled|            features|prediction|\n",
      "+---+----------+-------+---------+-------+-------+-------+----+--------+-----+--------+--------+---+---------+--------------+-------------+-------------+---------------+-------------+-------------+-------------+-------------+-------------+----------+-------------+--------------+-------------+-------+-------------+--------------------+------------------+--------------------+------------------+------------------+---------------+-------------------+------------+--------------------+----------+\n",
      "| 33|  services|married|secondary|     no|   4789|    yes| yes|       1|  339|       4| failure| no|      4.0|(11,[4],[1.0])|          0.0|(3,[0],[1.0])|            0.0|(3,[0],[1.0])|          0.0|(2,[0],[1.0])|          0.0|(2,[0],[1.0])|       1.0|(2,[1],[1.0])|           0.0|(2,[0],[1.0])|    0.0|(2,[0],[1.0])|[0.0,0.0,0.0,0.0,...|     [1.0,0.0,0.0]|       [1.0,0.0,0.0]|         [1.0,0.0]|         [1.0,0.0]|      [0.0,1.0]|          [1.0,0.0]|   [1.0,0.0]|(25,[4,11,14,17,1...|         0|\n",
      "| 35|management| single| tertiary|     no|   1350|    yes|  no|       1|  330|       1| failure| no|      0.0|(11,[0],[1.0])|          1.0|(3,[1],[1.0])|            1.0|(3,[1],[1.0])|          0.0|(2,[0],[1.0])|          0.0|(2,[0],[1.0])|       0.0|(2,[0],[1.0])|           0.0|(2,[0],[1.0])|    0.0|(2,[0],[1.0])|[1.0,0.0,0.0,0.0,...|     [0.0,1.0,0.0]|       [0.0,1.0,0.0]|         [1.0,0.0]|         [1.0,0.0]|      [1.0,0.0]|          [1.0,0.0]|   [1.0,0.0]|(25,[0,12,15,17,1...|         1|\n",
      "| 35|management| single| tertiary|     no|    747|     no|  no|       2|  176|       3| failure| no|      0.0|(11,[0],[1.0])|          1.0|(3,[1],[1.0])|            1.0|(3,[1],[1.0])|          0.0|(2,[0],[1.0])|          1.0|(2,[1],[1.0])|       0.0|(2,[0],[1.0])|           0.0|(2,[0],[1.0])|    0.0|(2,[0],[1.0])|[1.0,0.0,0.0,0.0,...|     [0.0,1.0,0.0]|       [0.0,1.0,0.0]|         [1.0,0.0]|         [0.0,1.0]|      [1.0,0.0]|          [1.0,0.0]|   [1.0,0.0]|(25,[0,12,15,17,2...|         1|\n",
      "| 43|  services|married|  primary|     no|    -88|    yes| yes|       1|  147|       2| failure| no|      4.0|(11,[4],[1.0])|          0.0|(3,[0],[1.0])|            2.0|(3,[2],[1.0])|          0.0|(2,[0],[1.0])|          0.0|(2,[0],[1.0])|       1.0|(2,[1],[1.0])|           0.0|(2,[0],[1.0])|    0.0|(2,[0],[1.0])|[0.0,0.0,0.0,0.0,...|     [1.0,0.0,0.0]|       [0.0,0.0,1.0]|         [1.0,0.0]|         [1.0,0.0]|      [0.0,1.0]|          [1.0,0.0]|   [1.0,0.0]|(25,[4,11,16,17,1...|         0|\n",
      "+---+----------+-------+---------+-------+-------+-------+----+--------+-----+--------+--------+---+---------+--------------+-------------+-------------+---------------+-------------+-------------+-------------+-------------+-------------+----------+-------------+--------------+-------------+-------+-------------+--------------------+------------------+--------------------+------------------+------------------+---------------+-------------------+------------+--------------------+----------+\n",
      "only showing top 4 rows\n",
      "\n"
     ]
    }
   ],
   "source": [
    "kmeans = KMeans(k=2, seed=1)\n",
    "model = kmeans.fit(df3.select(\"features\"))\n",
    "transformed = model.transform(df3)\n",
    "transformed.show(4)"
   ]
  },
  {
   "cell_type": "code",
   "execution_count": 9,
   "metadata": {
    "ExecuteTime": {
     "end_time": "2022-06-22T09:24:51.698909Z",
     "start_time": "2022-06-22T09:24:49.716417Z"
    }
   },
   "outputs": [
    {
     "name": "stderr",
     "output_type": "stream",
     "text": [
      "22/06/22 17:24:50 WARN LAPACK: Failed to load implementation from: com.github.fommil.netlib.NativeSystemLAPACK\n",
      "22/06/22 17:24:50 WARN LAPACK: Failed to load implementation from: com.github.fommil.netlib.NativeRefLAPACK\n"
     ]
    },
    {
     "data": {
      "image/png": "[encoded data removed]",
      "text/plain": [
       "<Figure size 432x288 with 1 Axes>"
      ]
     },
     "metadata": {
      "needs_background": "light"
     },
     "output_type": "display_data"
    }
   ],
   "source": [
    "from pyspark.ml.feature import PCA\n",
    "import matplotlib.pyplot as plt\n",
    "\n",
    "\n",
    "pca = PCA(k=2, inputCol=\"features\", outputCol=\"pcaFeatures\")\n",
    "model = pca.fit(df3)\n",
    "\n",
    "result = model.transform(df3).select(\"pcaFeatures\")\n",
    "pandasDf = result.toPandas()\n",
    "dataX = []\n",
    "dataY = []\n",
    "for vec in pandasDf.values:\n",
    "    dataX.extend([vec[0][0]])\n",
    "    dataY.extend([vec[0][1]])\n",
    "plt.scatter(dataX, dataY)\n",
    "plt.show()"
   ]
  },
  {
   "cell_type": "code",
   "execution_count": null,
   "metadata": {},
   "outputs": [],
   "source": []
  },
  {
   "cell_type": "code",
   "execution_count": null,
   "metadata": {},
   "outputs": [],
   "source": []
  },
  {
   "cell_type": "code",
   "execution_count": 10,
   "metadata": {
    "ExecuteTime": {
     "end_time": "2022-06-22T09:25:07.144998Z",
     "start_time": "2022-06-22T09:25:06.675598Z"
    }
   },
   "outputs": [
    {
     "name": "stderr",
     "output_type": "stream",
     "text": [
      "/home/algo_dev/anaconda3/envs/py37_lgb3.2.1/lib/python3.7/site-packages/statsmodels/tools/_testing.py:19: FutureWarning: pandas.util.testing is deprecated. Use the functions in the public API at pandas.testing instead.\n",
      "  import pandas.util.testing as tm\n"
     ]
    },
    {
     "data": {
      "image/png": "[encoded data removed]",
      "text/plain": [
       "<Figure size 432x288 with 1 Axes>"
      ]
     },
     "metadata": {
      "needs_background": "light"
     },
     "output_type": "display_data"
    }
   ],
   "source": [
    "import seaborn as sns\n",
    "sns.scatterplot(dataX, dataY)\n",
    "plt.title('PCA Features')\n",
    "plt.show()"
   ]
  },
  {
   "cell_type": "code",
   "execution_count": null,
   "metadata": {},
   "outputs": [],
   "source": []
  }
 ],
 "metadata": {
  "kernelspec": {
   "display_name": "py37_lgb3.2.1",
   "language": "python",
   "name": "py37_lgb3.2.1"
  },
  "language_info": {
   "codemirror_mode": {
    "name": "ipython",
    "version": 3
   },
   "file_extension": ".py",
   "mimetype": "text/x-python",
   "name": "python",
   "nbconvert_exporter": "python",
   "pygments_lexer": "ipython3",
   "version": "3.7.11"
  },
  "toc": {
   "base_numbering": 1,
   "nav_menu": {},
   "number_sections": true,
   "sideBar": true,
   "skip_h1_title": false,
   "title_cell": "Table of Contents",
   "title_sidebar": "Contents",
   "toc_cell": false,
   "toc_position": {},
   "toc_section_display": true,
   "toc_window_display": false
  }
 },
 "nbformat": 4,
 "nbformat_minor": 4
}
